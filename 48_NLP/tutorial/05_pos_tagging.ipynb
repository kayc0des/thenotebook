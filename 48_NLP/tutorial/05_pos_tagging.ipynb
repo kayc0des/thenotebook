{
  "nbformat": 4,
  "nbformat_minor": 0,
  "metadata": {
    "colab": {
      "provenance": []
    },
    "kernelspec": {
      "name": "python3",
      "display_name": "Python 3"
    },
    "language_info": {
      "name": "python"
    }
  },
  "cells": [
    {
      "cell_type": "markdown",
      "source": [
        "# Part of Speech Tagging\n",
        "\n",
        "Part of Speech (POS) tagging in Natural Language Processing (NLP) is the process of labeling each word in a sentence with its corresponding grammatical category or \"part of speech,\" such as noun, verb, adjective, adverb, etc. This helps in understanding the role of each word in a sentence and how it relates to the other words."
      ],
      "metadata": {
        "id": "eeTs098cy6_M"
      }
    },
    {
      "cell_type": "code",
      "source": [
        "# import necessary packages\n",
        "\n",
        "import nltk\n",
        "from nltk.tokenize import sent_tokenize\n",
        "\n",
        "nltk.download('punkt')"
      ],
      "metadata": {
        "colab": {
          "base_uri": "https://localhost:8080/"
        },
        "id": "f7f_PN9-zWxE",
        "outputId": "372fb584-6411-41f6-ac8a-e1403a96a46a"
      },
      "execution_count": 1,
      "outputs": [
        {
          "output_type": "stream",
          "name": "stderr",
          "text": [
            "[nltk_data] Downloading package punkt to /root/nltk_data...\n",
            "[nltk_data]   Unzipping tokenizers/punkt.zip.\n"
          ]
        },
        {
          "output_type": "execute_result",
          "data": {
            "text/plain": [
              "True"
            ]
          },
          "metadata": {},
          "execution_count": 1
        }
      ]
    },
    {
      "cell_type": "code",
      "execution_count": 2,
      "metadata": {
        "id": "W6HtPLIzy3XG"
      },
      "outputs": [],
      "source": [
        "corpus = \"\"\"On a sunny afternoon, the children eagerly gathered in the park to play their favorite games.\n",
        "Sarah, the youngest, carried a bright red ball, while her brother John rode his new bicycle around the winding paths.\n",
        "The air was filled with laughter as they raced each other across the grassy fields. Nearby, their parents sat on a bench, watching them with smiles and occasionally waving.\n",
        "As the sun began to set, the sky turned a beautiful shade of orange and pink.\n",
        "The wind picked up slightly, rustling the leaves of the trees, and the children knew it was almost time to go home.\n",
        "Reluctantly, they packed up their toys and promised to return the next day for more fun.\n",
        "\"\"\""
      ]
    },
    {
      "cell_type": "code",
      "source": [
        "sentences = sent_tokenize(corpus)\n",
        "sentences"
      ],
      "metadata": {
        "colab": {
          "base_uri": "https://localhost:8080/"
        },
        "id": "9cGAfxDozppI",
        "outputId": "680cb78e-a818-4a7c-9194-0c3218e3ea28"
      },
      "execution_count": 3,
      "outputs": [
        {
          "output_type": "execute_result",
          "data": {
            "text/plain": [
              "['On a sunny afternoon, the children eagerly gathered in the park to play their favorite games.',\n",
              " 'Sarah, the youngest, carried a bright red ball, while her brother John rode his new bicycle around the winding paths.',\n",
              " 'The air was filled with laughter as they raced each other across the grassy fields.',\n",
              " 'Nearby, their parents sat on a bench, watching them with smiles and occasionally waving.',\n",
              " 'As the sun began to set, the sky turned a beautiful shade of orange and pink.',\n",
              " 'The wind picked up slightly, rustling the leaves of the trees, and the children knew it was almost time to go home.',\n",
              " 'Reluctantly, they packed up their toys and promised to return the next day for more fun.']"
            ]
          },
          "metadata": {},
          "execution_count": 3
        }
      ]
    },
    {
      "cell_type": "code",
      "source": [
        "## Find out the Pos Tag\n",
        "\n",
        "from nltk.tokenize import word_tokenize\n",
        "from nltk.corpus import stopwords\n",
        "\n",
        "nltk.download('stopwords')\n",
        "nltk.download('averaged_perceptron_tagger')\n",
        "\n",
        "for sentence in sentences:\n",
        "  words = nltk.word_tokenize(sentence)\n",
        "  words = [word for word in words if word not in set(stopwords.words('english'))]\n",
        "  pos_tags = nltk.pos_tag(words)\n",
        "  print(pos_tags)"
      ],
      "metadata": {
        "colab": {
          "base_uri": "https://localhost:8080/"
        },
        "id": "UZymBuBIz0jl",
        "outputId": "6b0be3f1-47e7-4b92-a162-ee1f9364e8ce"
      },
      "execution_count": 5,
      "outputs": [
        {
          "output_type": "stream",
          "name": "stderr",
          "text": [
            "[nltk_data] Downloading package stopwords to /root/nltk_data...\n",
            "[nltk_data]   Package stopwords is already up-to-date!\n",
            "[nltk_data] Downloading package averaged_perceptron_tagger to\n",
            "[nltk_data]     /root/nltk_data...\n",
            "[nltk_data]   Unzipping taggers/averaged_perceptron_tagger.zip.\n"
          ]
        },
        {
          "output_type": "stream",
          "name": "stdout",
          "text": [
            "[('On', 'IN'), ('sunny', 'JJ'), ('afternoon', 'NN'), (',', ','), ('children', 'NNS'), ('eagerly', 'RB'), ('gathered', 'VBN'), ('park', 'NN'), ('play', 'NN'), ('favorite', 'JJ'), ('games', 'NNS'), ('.', '.')]\n",
            "[('Sarah', 'NNP'), (',', ','), ('youngest', 'JJS'), (',', ','), ('carried', 'VBD'), ('bright', 'JJ'), ('red', 'JJ'), ('ball', 'NN'), (',', ','), ('brother', 'NN'), ('John', 'NNP'), ('rode', 'VBD'), ('new', 'JJ'), ('bicycle', 'NN'), ('around', 'IN'), ('winding', 'VBG'), ('paths', 'NNS'), ('.', '.')]\n",
            "[('The', 'DT'), ('air', 'NN'), ('filled', 'VBD'), ('laughter', 'NN'), ('raced', 'VBN'), ('across', 'IN'), ('grassy', 'JJ'), ('fields', 'NNS'), ('.', '.')]\n",
            "[('Nearby', 'RB'), (',', ','), ('parents', 'NNS'), ('sat', 'VBD'), ('bench', 'NN'), (',', ','), ('watching', 'VBG'), ('smiles', 'NNS'), ('occasionally', 'RB'), ('waving', 'VBG'), ('.', '.')]\n",
            "[('As', 'IN'), ('sun', 'NN'), ('began', 'VBD'), ('set', 'VBN'), (',', ','), ('sky', 'NN'), ('turned', 'VBD'), ('beautiful', 'JJ'), ('shade', 'JJ'), ('orange', 'NN'), ('pink', 'NN'), ('.', '.')]\n",
            "[('The', 'DT'), ('wind', 'NN'), ('picked', 'VBD'), ('slightly', 'RB'), (',', ','), ('rustling', 'VBG'), ('leaves', 'NNS'), ('trees', 'NNS'), (',', ','), ('children', 'NNS'), ('knew', 'VBD'), ('almost', 'RB'), ('time', 'NN'), ('go', 'JJ'), ('home', 'NN'), ('.', '.')]\n",
            "[('Reluctantly', 'RB'), (',', ','), ('packed', 'VBD'), ('toys', 'NNS'), ('promised', 'JJ'), ('return', 'VBP'), ('next', 'JJ'), ('day', 'NN'), ('fun', 'NN'), ('.', '.')]\n"
          ]
        }
      ]
    }
  ]
}