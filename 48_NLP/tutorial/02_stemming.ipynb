{
  "nbformat": 4,
  "nbformat_minor": 0,
  "metadata": {
    "colab": {
      "provenance": []
    },
    "kernelspec": {
      "name": "python3",
      "display_name": "Python 3"
    },
    "language_info": {
      "name": "python"
    }
  },
  "cells": [
    {
      "cell_type": "markdown",
      "source": [
        "# Stemming\n",
        "\n",
        "Stemming is a text preprocessing technique used in natural language processing (NLP) to reduce words to their root or base form. The goal of stemming is to simplify and standardize words, which helps improve the performance of information retrieval, text classification, and other NLP tasks. By transforming words to their stems, NLP models can treat different forms of the same word as a single entity, reducing the complexity of the text data."
      ],
      "metadata": {
        "id": "WN2Iy1vDE1BR"
      }
    },
    {
      "cell_type": "code",
      "source": [
        "import nltk\n",
        "from nltk.tokenize import word_tokenize\n",
        "from nltk.stem import PorterStemmer"
      ],
      "metadata": {
        "id": "flKTUI0mE90q"
      },
      "execution_count": 7,
      "outputs": []
    },
    {
      "cell_type": "code",
      "execution_count": 8,
      "metadata": {
        "id": "Q9ogg24BEp6Z"
      },
      "outputs": [],
      "source": [
        " corpus = \"The quick brown fox jumps over the lazy dog. It is running swiftly through the green grass, while the birds are singing beautifully in the trees. The sun is shining brightly, making everything look more vibrant. Children are playing and laughing, creating a joyful atmosphere in the park. Everyone seems to be enjoying the lovely day.\""
      ]
    },
    {
      "cell_type": "code",
      "source": [
        "nltk.download('punkt')\n",
        "words = word_tokenize(corpus)\n",
        "\n",
        "print(words)"
      ],
      "metadata": {
        "colab": {
          "base_uri": "https://localhost:8080/"
        },
        "id": "eC2UHuQcFJcB",
        "outputId": "7269039a-9220-45ca-a859-b38d7bc0fc6f"
      },
      "execution_count": 11,
      "outputs": [
        {
          "output_type": "stream",
          "name": "stdout",
          "text": [
            "['The', 'quick', 'brown', 'fox', 'jumps', 'over', 'the', 'lazy', 'dog', '.', 'It', 'is', 'running', 'swiftly', 'through', 'the', 'green', 'grass', ',', 'while', 'the', 'birds', 'are', 'singing', 'beautifully', 'in', 'the', 'trees', '.', 'The', 'sun', 'is', 'shining', 'brightly', ',', 'making', 'everything', 'look', 'more', 'vibrant', '.', 'Children', 'are', 'playing', 'and', 'laughing', ',', 'creating', 'a', 'joyful', 'atmosphere', 'in', 'the', 'park', '.', 'Everyone', 'seems', 'to', 'be', 'enjoying', 'the', 'lovely', 'day', '.']\n"
          ]
        },
        {
          "output_type": "stream",
          "name": "stderr",
          "text": [
            "[nltk_data] Downloading package punkt to /root/nltk_data...\n",
            "[nltk_data]   Package punkt is already up-to-date!\n"
          ]
        }
      ]
    },
    {
      "cell_type": "markdown",
      "source": [
        "### PorterStemmer"
      ],
      "metadata": {
        "id": "Cd4ZBlAYFoih"
      }
    },
    {
      "cell_type": "code",
      "source": [
        "stemmer = PorterStemmer()\n",
        "\n",
        "stemmed_words = [stemmer.stem(word) for word in words]\n",
        "\n",
        "print(stemmed_words)"
      ],
      "metadata": {
        "colab": {
          "base_uri": "https://localhost:8080/"
        },
        "id": "cZyDnXV2FhfU",
        "outputId": "798e38dc-5382-4da1-da11-5a1cbc13b36b"
      },
      "execution_count": 12,
      "outputs": [
        {
          "output_type": "stream",
          "name": "stdout",
          "text": [
            "['the', 'quick', 'brown', 'fox', 'jump', 'over', 'the', 'lazi', 'dog', '.', 'it', 'is', 'run', 'swiftli', 'through', 'the', 'green', 'grass', ',', 'while', 'the', 'bird', 'are', 'sing', 'beauti', 'in', 'the', 'tree', '.', 'the', 'sun', 'is', 'shine', 'brightli', ',', 'make', 'everyth', 'look', 'more', 'vibrant', '.', 'children', 'are', 'play', 'and', 'laugh', ',', 'creat', 'a', 'joy', 'atmospher', 'in', 'the', 'park', '.', 'everyon', 'seem', 'to', 'be', 'enjoy', 'the', 'love', 'day', '.']\n"
          ]
        }
      ]
    },
    {
      "cell_type": "markdown",
      "source": [
        "### RegexpStemmer Class"
      ],
      "metadata": {
        "id": "Wxhq9S5XG8tl"
      }
    },
    {
      "cell_type": "code",
      "source": [
        "from nltk.stem import RegexpStemmer\n",
        "\n",
        "reg_stemmer = RegexpStemmer('ing$|s$|e$|able$', min=4)"
      ],
      "metadata": {
        "id": "eTIIjcZ5G_Bi"
      },
      "execution_count": 13,
      "outputs": []
    },
    {
      "cell_type": "code",
      "source": [
        "regexp_words = [reg_stemmer.stem(word) for word in words]\n",
        "print(regexp_words)"
      ],
      "metadata": {
        "colab": {
          "base_uri": "https://localhost:8080/"
        },
        "id": "OTixJvu1Hmqb",
        "outputId": "647605d9-e822-4593-fe05-1231fc5bc790"
      },
      "execution_count": 16,
      "outputs": [
        {
          "output_type": "stream",
          "name": "stdout",
          "text": [
            "['The', 'quick', 'brown', 'fox', 'jump', 'over', 'the', 'lazy', 'dog', '.', 'It', 'is', 'runn', 'swiftly', 'through', 'the', 'green', 'gras', ',', 'whil', 'the', 'bird', 'are', 'sing', 'beautifully', 'in', 'the', 'tree', '.', 'The', 'sun', 'is', 'shin', 'brightly', ',', 'mak', 'everyth', 'look', 'mor', 'vibrant', '.', 'Children', 'are', 'play', 'and', 'laugh', ',', 'creat', 'a', 'joyful', 'atmospher', 'in', 'the', 'park', '.', 'Everyon', 'seem', 'to', 'be', 'enjoy', 'the', 'lovely', 'day', '.']\n"
          ]
        }
      ]
    },
    {
      "cell_type": "markdown",
      "source": [
        "### Snowball Stemmer"
      ],
      "metadata": {
        "id": "Kd4TP3g5IUel"
      }
    },
    {
      "cell_type": "code",
      "source": [
        "from nltk.stem import SnowballStemmer\n",
        "\n",
        "snowball = SnowballStemmer('english')"
      ],
      "metadata": {
        "id": "7ZpmPmAbIX0d"
      },
      "execution_count": 17,
      "outputs": []
    },
    {
      "cell_type": "code",
      "source": [
        "snowball_words = [snowball.stem(word) for word in words]\n",
        "print(snowball_words)"
      ],
      "metadata": {
        "colab": {
          "base_uri": "https://localhost:8080/"
        },
        "id": "IZrc8JbUIuMf",
        "outputId": "c5246898-6bc5-4202-a847-0f1d5bed0734"
      },
      "execution_count": 18,
      "outputs": [
        {
          "output_type": "stream",
          "name": "stdout",
          "text": [
            "['the', 'quick', 'brown', 'fox', 'jump', 'over', 'the', 'lazi', 'dog', '.', 'it', 'is', 'run', 'swift', 'through', 'the', 'green', 'grass', ',', 'while', 'the', 'bird', 'are', 'sing', 'beauti', 'in', 'the', 'tree', '.', 'the', 'sun', 'is', 'shine', 'bright', ',', 'make', 'everyth', 'look', 'more', 'vibrant', '.', 'children', 'are', 'play', 'and', 'laugh', ',', 'creat', 'a', 'joy', 'atmospher', 'in', 'the', 'park', '.', 'everyon', 'seem', 'to', 'be', 'enjoy', 'the', 'love', 'day', '.']\n"
          ]
        }
      ]
    }
  ]
}