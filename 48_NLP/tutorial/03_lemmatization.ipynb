{
  "nbformat": 4,
  "nbformat_minor": 0,
  "metadata": {
    "colab": {
      "provenance": []
    },
    "kernelspec": {
      "name": "python3",
      "display_name": "Python 3"
    },
    "language_info": {
      "name": "python"
    }
  },
  "cells": [
    {
      "cell_type": "markdown",
      "source": [
        "# Lemmatization\n",
        "\n",
        "Lemmatization is a natural language processing (NLP) technique that reduces words to their base or dictionary form, called the lemma. Unlike stemming, which just cuts off prefixes or suffixes, lemmatization takes into account the context of the word, ensuring the result is a valid word in the language. For example, \"running\" becomes \"run\" and \"better\" becomes \"good.\""
      ],
      "metadata": {
        "id": "KmrX5TDjmWZg"
      }
    },
    {
      "cell_type": "code",
      "execution_count": 9,
      "metadata": {
        "id": "jAXuxQptmVA8"
      },
      "outputs": [],
      "source": [
        "import nltk\n",
        "from nltk.stem import WordNetLemmatizer\n",
        "from nltk.tokenize import word_tokenize\n",
        "lemmatizer = WordNetLemmatizer()"
      ]
    },
    {
      "cell_type": "code",
      "source": [
        "corpus = \"The quick brown fox jumps over the lazy dog. It is running swiftly through the green grass, while the birds are singing beautifully in the trees. The sun is shining brightly, making everything look more vibrant. Children are playing and laughing, creating a joyful atmosphere in the park. Everyone seems to be enjoying the lovely day.\"\n",
        "corpus"
      ],
      "metadata": {
        "colab": {
          "base_uri": "https://localhost:8080/",
          "height": 54
        },
        "id": "jG2WTJ99mmgJ",
        "outputId": "d5e86e65-edf8-4ef1-baf8-781198eae12b"
      },
      "execution_count": 10,
      "outputs": [
        {
          "output_type": "execute_result",
          "data": {
            "text/plain": [
              "'The quick brown fox jumps over the lazy dog. It is running swiftly through the green grass, while the birds are singing beautifully in the trees. The sun is shining brightly, making everything look more vibrant. Children are playing and laughing, creating a joyful atmosphere in the park. Everyone seems to be enjoying the lovely day.'"
            ],
            "application/vnd.google.colaboratory.intrinsic+json": {
              "type": "string"
            }
          },
          "metadata": {},
          "execution_count": 10
        }
      ]
    },
    {
      "cell_type": "code",
      "source": [
        "nltk.download('punkt')\n",
        "\n",
        "words = word_tokenize(corpus)\n",
        "\n",
        "'''\n",
        "POS tag\n",
        "\n",
        "Noun - n\n",
        "adjective - a\n",
        "adverb - r\n",
        "verb - v\n",
        "'''\n",
        "\n",
        "nltk.download('wordnet')\n",
        "words = [lemmatizer.lemmatize(word, pos='v') for word in words]\n",
        "\n",
        "print(words)"
      ],
      "metadata": {
        "colab": {
          "base_uri": "https://localhost:8080/"
        },
        "id": "wrzaFm29mwKp",
        "outputId": "5e0a0e55-206c-45db-a77c-81ee96ed0556"
      },
      "execution_count": 13,
      "outputs": [
        {
          "output_type": "stream",
          "name": "stdout",
          "text": [
            "['The', 'quick', 'brown', 'fox', 'jump', 'over', 'the', 'lazy', 'dog', '.', 'It', 'be', 'run', 'swiftly', 'through', 'the', 'green', 'grass', ',', 'while', 'the', 'bird', 'be', 'sing', 'beautifully', 'in', 'the', 'tree', '.', 'The', 'sun', 'be', 'shin', 'brightly', ',', 'make', 'everything', 'look', 'more', 'vibrant', '.', 'Children', 'be', 'play', 'and', 'laugh', ',', 'create', 'a', 'joyful', 'atmosphere', 'in', 'the', 'park', '.', 'Everyone', 'seem', 'to', 'be', 'enjoy', 'the', 'lovely', 'day', '.']\n"
          ]
        },
        {
          "output_type": "stream",
          "name": "stderr",
          "text": [
            "[nltk_data] Downloading package punkt to /root/nltk_data...\n",
            "[nltk_data]   Package punkt is already up-to-date!\n",
            "[nltk_data] Downloading package wordnet to /root/nltk_data...\n",
            "[nltk_data]   Package wordnet is already up-to-date!\n"
          ]
        }
      ]
    }
  ]
}